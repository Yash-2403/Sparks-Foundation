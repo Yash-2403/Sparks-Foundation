{
 "cells": [
  {
   "cell_type": "markdown",
   "id": "pressed-afghanistan",
   "metadata": {},
   "source": [
    "# The Sparks Foundation -  Data Science & Business Analytics"
   ]
  },
  {
   "cell_type": "markdown",
   "id": "informational-timber",
   "metadata": {},
   "source": [
    "### Simple Linear Regression with Python Scikit Learn"
   ]
  },
  {
   "cell_type": "markdown",
   "id": "needed-neighbor",
   "metadata": {},
   "source": [
    "### Task-1 Prediction using Supervised ML\n",
    "In this regression task we will predict the percentage of marks that a student is expected to score based upon the number of hours they studied.This is a simple linear regression task as it involves just two variables."
   ]
  },
  {
   "cell_type": "markdown",
   "id": "cloudy-prayer",
   "metadata": {},
   "source": [
    "### Code By : Yash Modi"
   ]
  },
  {
   "cell_type": "markdown",
   "id": "given-andorra",
   "metadata": {},
   "source": [
    "#### Importing the Libraries"
   ]
  },
  {
   "cell_type": "markdown",
   "id": "continent-sleep",
   "metadata": {},
   "source": [
    "Import all the libraries like numpy,pandas,matplotlib and sklearn"
   ]
  },
  {
   "cell_type": "code",
   "execution_count": 57,
   "id": "pressing-february",
   "metadata": {},
   "outputs": [],
   "source": [
    "import numpy as np\n",
    "import pandas as pd\n",
    "import matplotlib.pyplot as plt"
   ]
  },
  {
   "cell_type": "markdown",
   "id": "corrected-pricing",
   "metadata": {},
   "source": [
    "#### Dataset"
   ]
  },
  {
   "cell_type": "markdown",
   "id": "arranged-player",
   "metadata": {},
   "source": [
    "From the given Dataset "
   ]
  },
  {
   "cell_type": "code",
   "execution_count": 58,
   "id": "cosmetic-candy",
   "metadata": {},
   "outputs": [],
   "source": [
    "data_url=\"https://raw.githubusercontent.com/AdiPersonalWorks/Random/master/student_scores%20-%20student_scores.csv\"\n",
    "dataf=pd.read_csv(data_url)"
   ]
  },
  {
   "cell_type": "code",
   "execution_count": 59,
   "id": "unexpected-bandwidth",
   "metadata": {},
   "outputs": [
    {
     "data": {
      "text/html": [
       "<div>\n",
       "<style scoped>\n",
       "    .dataframe tbody tr th:only-of-type {\n",
       "        vertical-align: middle;\n",
       "    }\n",
       "\n",
       "    .dataframe tbody tr th {\n",
       "        vertical-align: top;\n",
       "    }\n",
       "\n",
       "    .dataframe thead th {\n",
       "        text-align: right;\n",
       "    }\n",
       "</style>\n",
       "<table border=\"1\" class=\"dataframe\">\n",
       "  <thead>\n",
       "    <tr style=\"text-align: right;\">\n",
       "      <th></th>\n",
       "      <th>Hours</th>\n",
       "      <th>Scores</th>\n",
       "    </tr>\n",
       "  </thead>\n",
       "  <tbody>\n",
       "    <tr>\n",
       "      <th>0</th>\n",
       "      <td>2.5</td>\n",
       "      <td>21</td>\n",
       "    </tr>\n",
       "    <tr>\n",
       "      <th>1</th>\n",
       "      <td>5.1</td>\n",
       "      <td>47</td>\n",
       "    </tr>\n",
       "    <tr>\n",
       "      <th>2</th>\n",
       "      <td>3.2</td>\n",
       "      <td>27</td>\n",
       "    </tr>\n",
       "    <tr>\n",
       "      <th>3</th>\n",
       "      <td>8.5</td>\n",
       "      <td>75</td>\n",
       "    </tr>\n",
       "    <tr>\n",
       "      <th>4</th>\n",
       "      <td>3.5</td>\n",
       "      <td>30</td>\n",
       "    </tr>\n",
       "  </tbody>\n",
       "</table>\n",
       "</div>"
      ],
      "text/plain": [
       "   Hours  Scores\n",
       "0    2.5      21\n",
       "1    5.1      47\n",
       "2    3.2      27\n",
       "3    8.5      75\n",
       "4    3.5      30"
      ]
     },
     "execution_count": 59,
     "metadata": {},
     "output_type": "execute_result"
    }
   ],
   "source": [
    "dataf.head()\n"
   ]
  },
  {
   "cell_type": "markdown",
   "id": "demanding-grant",
   "metadata": {},
   "source": [
    "#### Finding the Values"
   ]
  },
  {
   "cell_type": "markdown",
   "id": "present-playing",
   "metadata": {},
   "source": [
    "Find the Values of X and Y, then print them."
   ]
  },
  {
   "cell_type": "code",
   "execution_count": 60,
   "id": "inclusive-lecture",
   "metadata": {},
   "outputs": [
    {
     "name": "stdout",
     "output_type": "stream",
     "text": [
      "Hours: [[2.5]\n",
      " [5.1]\n",
      " [3.2]\n",
      " [8.5]\n",
      " [3.5]\n",
      " [1.5]\n",
      " [9.2]\n",
      " [5.5]\n",
      " [8.3]\n",
      " [2.7]\n",
      " [7.7]\n",
      " [5.9]\n",
      " [4.5]\n",
      " [3.3]\n",
      " [1.1]\n",
      " [8.9]\n",
      " [2.5]\n",
      " [1.9]\n",
      " [6.1]\n",
      " [7.4]\n",
      " [2.7]\n",
      " [4.8]\n",
      " [3.8]\n",
      " [6.9]\n",
      " [7.8]]\n",
      "scores: [[21]\n",
      " [47]\n",
      " [27]\n",
      " [75]\n",
      " [30]\n",
      " [20]\n",
      " [88]\n",
      " [60]\n",
      " [81]\n",
      " [25]\n",
      " [85]\n",
      " [62]\n",
      " [41]\n",
      " [42]\n",
      " [17]\n",
      " [95]\n",
      " [30]\n",
      " [24]\n",
      " [67]\n",
      " [69]\n",
      " [30]\n",
      " [54]\n",
      " [35]\n",
      " [76]\n",
      " [86]]\n"
     ]
    }
   ],
   "source": [
    "x=dataf[[\"Hours\"]].values\n",
    "y=dataf[[\"Scores\"]].values\n",
    "print(\"Hours:\",x)\n",
    "print(\"scores:\",y)"
   ]
  },
  {
   "cell_type": "markdown",
   "id": "intellectual-antenna",
   "metadata": {},
   "source": [
    "To check relation between x and y Make a scatter plot with the x and y values.\n",
    "\n",
    "So it help for the direct Relationship between them."
   ]
  },
  {
   "cell_type": "code",
   "execution_count": 61,
   "id": "nearby-departure",
   "metadata": {},
   "outputs": [
    {
     "data": {
      "image/png": "[encoded data removed]",
      "text/plain": [
       "<Figure size 432x288 with 1 Axes>"
      ]
     },
     "metadata": {
      "needs_background": "light"
     },
     "output_type": "display_data"
    }
   ],
   "source": [
    "plt.scatter(x,y,color=\"blue\")\n",
    "plt.xlabel(\"No.of study hours\",color=\"black\")\n",
    "plt.ylabel(\"Percentage of marks\",color=\"black\")\n",
    "plt.title(\"No. of study hours vs Percentage\",color=\"black\")\n",
    "plt.show()"
   ]
  },
  {
   "cell_type": "markdown",
   "id": "atlantic-match",
   "metadata": {},
   "source": [
    "#### Train the model with the help dataset"
   ]
  },
  {
   "cell_type": "markdown",
   "id": "hungry-territory",
   "metadata": {},
   "source": [
    "Import train_test_split from the sklearn library which splits the data into x_train,x_test,y_train and y_test."
   ]
  },
  {
   "cell_type": "code",
   "execution_count": 62,
   "id": "continental-conclusion",
   "metadata": {},
   "outputs": [
    {
     "name": "stdout",
     "output_type": "stream",
     "text": [
      "x_train:\n",
      " [[7.4]\n",
      " [6.9]\n",
      " [4.8]\n",
      " [9.2]\n",
      " [4.5]]\n",
      " x_test:\n",
      " [[2.7]\n",
      " [3.8]\n",
      " [3.3]\n",
      " [5.9]\n",
      " [1.5]]\n",
      "y_train:\n",
      " [[69]\n",
      " [76]\n",
      " [54]\n",
      " [88]\n",
      " [41]]\n",
      "y_test:\n",
      " [[25]\n",
      " [35]\n",
      " [42]\n",
      " [62]\n",
      " [20]]\n"
     ]
    },
    {
     "name": "stderr",
     "output_type": "stream",
     "text": [
      "<ipython-input-62-15e84aeee8e6>:2: VisibleDeprecationWarning: Creating an ndarray from ragged nested sequences (which is a list-or-tuple of lists-or-tuples-or ndarrays with different lengths or shapes) is deprecated. If you meant to do this, you must specify 'dtype=object' when creating the ndarray.\n",
      "  x_train,x_test,y_train,y_test=np.array(train_test_split(x,y,test_size=0.2,random_state=100))\n"
     ]
    }
   ],
   "source": [
    "from sklearn.model_selection import train_test_split\n",
    "x_train,x_test,y_train,y_test=np.array(train_test_split(x,y,test_size=0.2,random_state=100))\n",
    "print(\"x_train:\\n\",x_train[:5])\n",
    "print(\" x_test:\\n\",x_test[:5])\n",
    "print(\"y_train:\\n\",y_train[:5])\n",
    "print(\"y_test:\\n\",y_test[:5])"
   ]
  },
  {
   "cell_type": "code",
   "execution_count": 63,
   "id": "designing-wages",
   "metadata": {},
   "outputs": [
    {
     "name": "stdout",
     "output_type": "stream",
     "text": [
      "Print shapes of x_train,x_test,y_train and y_test\n",
      "(20, 1)\n",
      "(5, 1)\n",
      "(20, 1)\n",
      "(5, 1)\n"
     ]
    }
   ],
   "source": [
    "print(\"Print shapes of x_train,x_test,y_train and y_test\")\n",
    "print(x_train.shape)\n",
    "print(x_test.shape)\n",
    "print(y_train.shape)\n",
    "print(y_test.shape)"
   ]
  },
  {
   "cell_type": "markdown",
   "id": "involved-literacy",
   "metadata": {},
   "source": [
    "Import LinearRegression from sklearn.linear_model and train the model with x_train and y_train values."
   ]
  },
  {
   "cell_type": "code",
   "execution_count": 64,
   "id": "innocent-sullivan",
   "metadata": {},
   "outputs": [
    {
     "data": {
      "text/plain": [
       "LinearRegression()"
      ]
     },
     "execution_count": 64,
     "metadata": {},
     "output_type": "execute_result"
    }
   ],
   "source": [
    "from sklearn.linear_model import LinearRegression\n",
    "linear_model=LinearRegression()\n",
    "linear_model.fit(x_train,y_train)"
   ]
  },
  {
   "cell_type": "markdown",
   "id": "reliable-trail",
   "metadata": {},
   "source": [
    "Intercept and the slope of the equation"
   ]
  },
  {
   "cell_type": "code",
   "execution_count": 65,
   "id": "owned-worthy",
   "metadata": {},
   "outputs": [
    {
     "name": "stdout",
     "output_type": "stream",
     "text": [
      "Intercept(b1): 1.989423110974684\n",
      "Slope(b0): 9.835444382798393\n"
     ]
    }
   ],
   "source": [
    "print(\"Intercept(b1):\",linear_model.intercept_[0])\n",
    "print(\"Slope(b0):\",linear_model.coef_[0][0])"
   ]
  },
  {
   "cell_type": "markdown",
   "id": "minimal-harvest",
   "metadata": {},
   "source": [
    "Check the accuracy of the model and error in the predictions"
   ]
  },
  {
   "cell_type": "code",
   "execution_count": 66,
   "id": "loved-treasure",
   "metadata": {},
   "outputs": [
    {
     "name": "stdout",
     "output_type": "stream",
     "text": [
      "Actual values: [[25]\n",
      " [35]\n",
      " [42]\n",
      " [62]\n",
      " [20]]\n",
      "Predicted values: [[28.54512294]\n",
      " [39.36411177]\n",
      " [34.44638957]\n",
      " [60.01854497]\n",
      " [16.74258969]]\n"
     ]
    }
   ],
   "source": [
    "from sklearn.metrics import r2_score\n",
    "ytrain_pred=np.array(linear_model.predict(x_train))\n",
    "ytest_pred=np.array(linear_model.predict(x_test))\n",
    "print(\"Actual values:\",y_test)\n",
    "print(\"Predicted values:\",ytest_pred)"
   ]
  },
  {
   "cell_type": "code",
   "execution_count": 67,
   "id": "guided-equity",
   "metadata": {},
   "outputs": [
    {
     "name": "stdout",
     "output_type": "stream",
     "text": [
      "R2 train score: 0.9519568836485192\n",
      "R2 test score: 0.9050356232459791\n"
     ]
    }
   ],
   "source": [
    "\n",
    "print(\"R2 train score:\",r2_score(y_train,ytrain_pred))\n",
    "print(\"R2 test score:\",r2_score(y_test,ytest_pred))"
   ]
  },
  {
   "cell_type": "code",
   "execution_count": 68,
   "id": "found-affairs",
   "metadata": {},
   "outputs": [
    {
     "name": "stdout",
     "output_type": "stream",
     "text": [
      "R2 train score: 0.9519568836485192\n",
      "R2 test score: 0.9050356232459791\n"
     ]
    }
   ],
   "source": [
    "print(\"R2 train score:\",linear_model.score(x_train,y_train))\n",
    "print(\"R2 test score:\",linear_model.score(x_test,y_test))"
   ]
  },
  {
   "cell_type": "code",
   "execution_count": 69,
   "id": "nasty-ferry",
   "metadata": {},
   "outputs": [
    {
     "name": "stdout",
     "output_type": "stream",
     "text": [
      "The mean absolute error of the model is 4.140342096254413\n"
     ]
    }
   ],
   "source": [
    "from sklearn.metrics import mean_absolute_error\n",
    "mae=mean_absolute_error(y_test,ytest_pred)\n",
    "print(\"The mean absolute error of the model is\",mae)"
   ]
  },
  {
   "cell_type": "markdown",
   "id": "inside-packaging",
   "metadata": {},
   "source": [
    "#### Final plot showing the dataset and the linear graph"
   ]
  },
  {
   "cell_type": "code",
   "execution_count": 70,
   "id": "intended-sperm",
   "metadata": {},
   "outputs": [
    {
     "data": {
      "image/png": "[encoded data removed]",
      "text/plain": [
       "<Figure size 432x288 with 1 Axes>"
      ]
     },
     "metadata": {
      "needs_background": "light"
     },
     "output_type": "display_data"
    }
   ],
   "source": [
    "plt.scatter(x_train,y_train,color=\"blue\")\n",
    "plt.scatter(x_test,y_test,color=\"red\")\n",
    "plt.xlabel(\"No.of study hours\",color=\"black\")\n",
    "plt.ylabel(\"Percentage of marks\",color=\"black\")\n",
    "plt.title(\"No. of study hours vs Percentage\",color=\"black\")\n",
    "plt.plot(x_train,linear_model.predict(x_train),color=\"black\")\n",
    "plt.show()"
   ]
  },
  {
   "cell_type": "code",
   "execution_count": 71,
   "id": "alternate-relay",
   "metadata": {},
   "outputs": [
    {
     "data": {
      "image/png": "[encoded data removed]",
      "text/plain": [
       "<Figure size 432x288 with 1 Axes>"
      ]
     },
     "metadata": {
      "needs_background": "light"
     },
     "output_type": "display_data"
    }
   ],
   "source": [
    "\n",
    "plt.scatter(x_test,y_test,color=\"red\")\n",
    "plt.xlabel(\"No.of study hours\",color=\"black\")\n",
    "plt.ylabel(\"Percentage of marks\",color=\"black\")\n",
    "plt.title(\"No. of study hours vs Percentage\",color=\"black\")\n",
    "plt.plot(x_test,linear_model.predict(x_test),color=\"black\")\n",
    "plt.show()"
   ]
  },
  {
   "cell_type": "markdown",
   "id": "sized-yeast",
   "metadata": {},
   "source": [
    "#### Predicted Score "
   ]
  },
  {
   "cell_type": "code",
   "execution_count": 72,
   "id": "incomplete-albert",
   "metadata": {},
   "outputs": [
    {
     "name": "stdout",
     "output_type": "stream",
     "text": [
      "The predicted percentage score if the student studies 9.25 hours per day is 92.96728365185982\n"
     ]
    }
   ],
   "source": [
    "hours=9.25\n",
    "percentage=linear_model.predict(np.array(hours).reshape(1,-1))\n",
    "print(\"The predicted percentage score if the student studies\",hours,\"hours per day is\",percentage[0][0])"
   ]
  }
 ],
 "metadata": {
  "kernelspec": {
   "display_name": "Python 3",
   "language": "python",
   "name": "python3"
  },
  "language_info": {
   "codemirror_mode": {
    "name": "ipython",
    "version": 3
   },
   "file_extension": ".py",
   "mimetype": "text/x-python",
   "name": "python",
   "nbconvert_exporter": "python",
   "pygments_lexer": "ipython3",
   "version": "3.9.1"
  }
 },
 "nbformat": 4,
 "nbformat_minor": 5
}
